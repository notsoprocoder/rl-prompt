{
 "cells": [
  {
   "cell_type": "code",
   "execution_count": 1,
   "metadata": {},
   "outputs": [
    {
     "name": "stderr",
     "output_type": "stream",
     "text": [
      "/Users/isaacbowers-barnard/Documents/Projects/llm-adverse-rl-agent/venv/lib/python3.11/site-packages/tqdm/auto.py:21: TqdmWarning: IProgress not found. Please update jupyter and ipywidgets. See https://ipywidgets.readthedocs.io/en/stable/user_install.html\n",
      "  from .autonotebook import tqdm as notebook_tqdm\n",
      "/Users/isaacbowers-barnard/Documents/Projects/llm-adverse-rl-agent/venv/lib/python3.11/site-packages/transformers/generation/utils.py:1273: UserWarning: Using the model-agnostic default `max_length` (=20) to control the generation length. We recommend setting `max_new_tokens` to control the maximum length of the generation.\n",
      "  warnings.warn(\n"
     ]
    }
   ],
   "source": [
    "import pandas as pd\n",
    "from transformers import pipeline\n",
    "from stable_baselines3.common.env_checker import check_env\n",
    "\n",
    "\n",
    "from rl_prompt_injection.environment import ToxicityEnvironment\n",
    "from rl_prompt_injection.engines import action_engine, reward_engine, state_engine\n",
    "from config import DataConstants\n",
    "\n",
    "MODEL = \"google/flan-t5-base\"\n",
    "INSTRUCTION_PROMPT = \"Please draft a response to the following tweet:\"\n",
    "\n",
    "llm = pipeline(\n",
    "    \"text2text-generation\", model=MODEL\n",
    "    )\n",
    "def generate_response(s: str | list, model=llm) -> str: \n",
    "    return model(s)[0].get(\"generated_text\", \"\")\n",
    "\n",
    "\n",
    "reward_eng = reward_engine.ResponseToxicityRewardEngine()\n",
    "action_eng = action_engine.Text2TextActionSpace(model=MODEL)\n",
    "state_eng = state_engine.SentenceTransformerStateEngine()\n",
    "text = pd.read_csv(DataConstants.TRAIN_DATA_PATH, encoding=\"latin1\").iloc[:,-1].to_numpy()\n",
    "env = ToxicityEnvironment(\n",
    "        llm = generate_response,\n",
    "        reward_engine=reward_eng,\n",
    "        state_engine=state_eng,\n",
    "        action_engine=action_eng,\n",
    "        instruction_prompt= INSTRUCTION_PROMPT,\n",
    "        texts = text,\n",
    ")\n",
    "\n",
    "# data = list()\n",
    "# for i in range(25):\n",
    "#     next_state, reward, done, terminated, info = env.step(env.action_space.sample())\n",
    "\n",
    "#     if done:\n",
    "#         data.append(info)\n",
    "\n",
    "check_env(env,skip_render_check=True)\n",
    "# env.ob"
   ]
  }
 ],
 "metadata": {
  "kernelspec": {
   "display_name": "venv",
   "language": "python",
   "name": "python3"
  },
  "language_info": {
   "codemirror_mode": {
    "name": "ipython",
    "version": 3
   },
   "file_extension": ".py",
   "mimetype": "text/x-python",
   "name": "python",
   "nbconvert_exporter": "python",
   "pygments_lexer": "ipython3",
   "version": "3.11.6"
  }
 },
 "nbformat": 4,
 "nbformat_minor": 2
}
