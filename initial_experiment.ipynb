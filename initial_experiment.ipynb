{
 "cells": [
  {
   "cell_type": "code",
   "execution_count": 1,
   "metadata": {},
   "outputs": [
    {
     "name": "stderr",
     "output_type": "stream",
     "text": [
      "/Users/isaacbowers-barnard/Documents/Projects/llm-adverse-rl-agent/venv/lib/python3.11/site-packages/tqdm/auto.py:21: TqdmWarning: IProgress not found. Please update jupyter and ipywidgets. See https://ipywidgets.readthedocs.io/en/stable/user_install.html\n",
      "  from .autonotebook import tqdm as notebook_tqdm\n",
      "/Users/isaacbowers-barnard/Documents/Projects/llm-adverse-rl-agent/venv/lib/python3.11/site-packages/transformers/generation/utils.py:1273: UserWarning: Using the model-agnostic default `max_length` (=20) to control the generation length. We recommend setting `max_new_tokens` to control the maximum length of the generation.\n",
      "  warnings.warn(\n"
     ]
    },
    {
     "name": "stdout",
     "output_type": "stream",
     "text": [
      "Using cpu device\n",
      "Wrapping the env with a `Monitor` wrapper\n",
      "Wrapping the env in a DummyVecEnv.\n"
     ]
    },
    {
     "name": "stderr",
     "output_type": "stream",
     "text": [
      "/Users/isaacbowers-barnard/Documents/Projects/llm-adverse-rl-agent/venv/lib/python3.11/site-packages/transformers/generation/utils.py:1273: UserWarning: Using the model-agnostic default `max_length` (=20) to control the generation length. We recommend setting `max_new_tokens` to control the maximum length of the generation.\n",
      "  warnings.warn(\n"
     ]
    },
    {
     "name": "stdout",
     "output_type": "stream",
     "text": [
      "---------------------------------\n",
      "| rollout/           |          |\n",
      "|    ep_len_mean     | 10       |\n",
      "|    ep_rew_mean     | 61.1     |\n",
      "| time/              |          |\n",
      "|    fps             | 2        |\n",
      "|    iterations      | 1        |\n",
      "|    time_elapsed    | 993      |\n",
      "|    total_timesteps | 2048     |\n",
      "---------------------------------\n"
     ]
    },
    {
     "name": "stderr",
     "output_type": "stream",
     "text": [
      "/Users/isaacbowers-barnard/Documents/Projects/llm-adverse-rl-agent/venv/lib/python3.11/site-packages/transformers/generation/utils.py:1273: UserWarning: Using the model-agnostic default `max_length` (=20) to control the generation length. We recommend setting `max_new_tokens` to control the maximum length of the generation.\n",
      "  warnings.warn(\n"
     ]
    },
    {
     "name": "stdout",
     "output_type": "stream",
     "text": [
      "------------------------------------------\n",
      "| rollout/                |              |\n",
      "|    ep_len_mean          | 10           |\n",
      "|    ep_rew_mean          | 46.5         |\n",
      "| time/                   |              |\n",
      "|    fps                  | 2            |\n",
      "|    iterations           | 2            |\n",
      "|    time_elapsed         | 2017         |\n",
      "|    total_timesteps      | 4096         |\n",
      "| train/                  |              |\n",
      "|    approx_kl            | 0.0005256251 |\n",
      "|    clip_fraction        | 0            |\n",
      "|    clip_range           | 0.2          |\n",
      "|    entropy_loss         | -4.61        |\n",
      "|    explained_variance   | -7.15e-05    |\n",
      "|    learning_rate        | 0.0003       |\n",
      "|    loss                 | 3.74e+03     |\n",
      "|    n_updates            | 10           |\n",
      "|    policy_gradient_loss | -0.00403     |\n",
      "|    value_loss           | 9.37e+03     |\n",
      "------------------------------------------\n"
     ]
    },
    {
     "name": "stderr",
     "output_type": "stream",
     "text": [
      "/Users/isaacbowers-barnard/Documents/Projects/llm-adverse-rl-agent/venv/lib/python3.11/site-packages/transformers/generation/utils.py:1273: UserWarning: Using the model-agnostic default `max_length` (=20) to control the generation length. We recommend setting `max_new_tokens` to control the maximum length of the generation.\n",
      "  warnings.warn(\n"
     ]
    },
    {
     "name": "stdout",
     "output_type": "stream",
     "text": [
      "------------------------------------------\n",
      "| rollout/                |              |\n",
      "|    ep_len_mean          | 10           |\n",
      "|    ep_rew_mean          | 37.4         |\n",
      "| time/                   |              |\n",
      "|    fps                  | 2            |\n",
      "|    iterations           | 3            |\n",
      "|    time_elapsed         | 3012         |\n",
      "|    total_timesteps      | 6144         |\n",
      "| train/                  |              |\n",
      "|    approx_kl            | 0.0029949688 |\n",
      "|    clip_fraction        | 0.000781     |\n",
      "|    clip_range           | 0.2          |\n",
      "|    entropy_loss         | -4.6         |\n",
      "|    explained_variance   | 8.26e-05     |\n",
      "|    learning_rate        | 0.0003       |\n",
      "|    loss                 | 3.96e+03     |\n",
      "|    n_updates            | 20           |\n",
      "|    policy_gradient_loss | -0.00512     |\n",
      "|    value_loss           | 1.29e+04     |\n",
      "------------------------------------------\n"
     ]
    },
    {
     "name": "stderr",
     "output_type": "stream",
     "text": [
      "/Users/isaacbowers-barnard/Documents/Projects/llm-adverse-rl-agent/venv/lib/python3.11/site-packages/transformers/generation/utils.py:1273: UserWarning: Using the model-agnostic default `max_length` (=20) to control the generation length. We recommend setting `max_new_tokens` to control the maximum length of the generation.\n",
      "  warnings.warn(\n"
     ]
    },
    {
     "name": "stdout",
     "output_type": "stream",
     "text": [
      "----------------------------------------\n",
      "| rollout/                |            |\n",
      "|    ep_len_mean          | 10         |\n",
      "|    ep_rew_mean          | 67.5       |\n",
      "| time/                   |            |\n",
      "|    fps                  | 2          |\n",
      "|    iterations           | 4          |\n",
      "|    time_elapsed         | 4024       |\n",
      "|    total_timesteps      | 8192       |\n",
      "| train/                  |            |\n",
      "|    approx_kl            | 0.01290331 |\n",
      "|    clip_fraction        | 0.136      |\n",
      "|    clip_range           | 0.2        |\n",
      "|    entropy_loss         | -4.59      |\n",
      "|    explained_variance   | -6.43e-05  |\n",
      "|    learning_rate        | 0.0003     |\n",
      "|    loss                 | 4.35e+03   |\n",
      "|    n_updates            | 30         |\n",
      "|    policy_gradient_loss | -0.0175    |\n",
      "|    value_loss           | 4.98e+03   |\n",
      "----------------------------------------\n"
     ]
    },
    {
     "name": "stderr",
     "output_type": "stream",
     "text": [
      "/Users/isaacbowers-barnard/Documents/Projects/llm-adverse-rl-agent/venv/lib/python3.11/site-packages/transformers/generation/utils.py:1273: UserWarning: Using the model-agnostic default `max_length` (=20) to control the generation length. We recommend setting `max_new_tokens` to control the maximum length of the generation.\n",
      "  warnings.warn(\n"
     ]
    },
    {
     "name": "stdout",
     "output_type": "stream",
     "text": [
      "------------------------------------------\n",
      "| rollout/                |              |\n",
      "|    ep_len_mean          | 10           |\n",
      "|    ep_rew_mean          | 34.2         |\n",
      "| time/                   |              |\n",
      "|    fps                  | 2            |\n",
      "|    iterations           | 5            |\n",
      "|    time_elapsed         | 4966         |\n",
      "|    total_timesteps      | 10240        |\n",
      "| train/                  |              |\n",
      "|    approx_kl            | 0.0027628448 |\n",
      "|    clip_fraction        | 0.00444      |\n",
      "|    clip_range           | 0.2          |\n",
      "|    entropy_loss         | -4.58        |\n",
      "|    explained_variance   | 0.00383      |\n",
      "|    learning_rate        | 0.0003       |\n",
      "|    loss                 | 92.4         |\n",
      "|    n_updates            | 40           |\n",
      "|    policy_gradient_loss | -0.00544     |\n",
      "|    value_loss           | 1.22e+04     |\n",
      "------------------------------------------\n"
     ]
    },
    {
     "name": "stderr",
     "output_type": "stream",
     "text": [
      "/Users/isaacbowers-barnard/Documents/Projects/llm-adverse-rl-agent/venv/lib/python3.11/site-packages/transformers/generation/utils.py:1273: UserWarning: Using the model-agnostic default `max_length` (=20) to control the generation length. We recommend setting `max_new_tokens` to control the maximum length of the generation.\n",
      "  warnings.warn(\n"
     ]
    },
    {
     "name": "stdout",
     "output_type": "stream",
     "text": [
      "------------------------------------------\n",
      "| rollout/                |              |\n",
      "|    ep_len_mean          | 10           |\n",
      "|    ep_rew_mean          | 79.6         |\n",
      "| time/                   |              |\n",
      "|    fps                  | 2            |\n",
      "|    iterations           | 6            |\n",
      "|    time_elapsed         | 5959         |\n",
      "|    total_timesteps      | 12288        |\n",
      "| train/                  |              |\n",
      "|    approx_kl            | 0.0021648826 |\n",
      "|    clip_fraction        | 0.000488     |\n",
      "|    clip_range           | 0.2          |\n",
      "|    entropy_loss         | -4.57        |\n",
      "|    explained_variance   | 0.0104       |\n",
      "|    learning_rate        | 0.0003       |\n",
      "|    loss                 | 1.46e+04     |\n",
      "|    n_updates            | 50           |\n",
      "|    policy_gradient_loss | -0.00495     |\n",
      "|    value_loss           | 1.08e+04     |\n",
      "------------------------------------------\n"
     ]
    },
    {
     "name": "stderr",
     "output_type": "stream",
     "text": [
      "/Users/isaacbowers-barnard/Documents/Projects/llm-adverse-rl-agent/venv/lib/python3.11/site-packages/transformers/generation/utils.py:1273: UserWarning: Using the model-agnostic default `max_length` (=20) to control the generation length. We recommend setting `max_new_tokens` to control the maximum length of the generation.\n",
      "  warnings.warn(\n"
     ]
    },
    {
     "name": "stdout",
     "output_type": "stream",
     "text": [
      "-----------------------------------------\n",
      "| rollout/                |             |\n",
      "|    ep_len_mean          | 10          |\n",
      "|    ep_rew_mean          | 70.2        |\n",
      "| time/                   |             |\n",
      "|    fps                  | 2           |\n",
      "|    iterations           | 7           |\n",
      "|    time_elapsed         | 6941        |\n",
      "|    total_timesteps      | 14336       |\n",
      "| train/                  |             |\n",
      "|    approx_kl            | 0.006732404 |\n",
      "|    clip_fraction        | 0.0257      |\n",
      "|    clip_range           | 0.2         |\n",
      "|    entropy_loss         | -4.55       |\n",
      "|    explained_variance   | 0.00844     |\n",
      "|    learning_rate        | 0.0003      |\n",
      "|    loss                 | 3.44e+03    |\n",
      "|    n_updates            | 60          |\n",
      "|    policy_gradient_loss | -0.013      |\n",
      "|    value_loss           | 1.04e+04    |\n",
      "-----------------------------------------\n"
     ]
    },
    {
     "name": "stderr",
     "output_type": "stream",
     "text": [
      "/Users/isaacbowers-barnard/Documents/Projects/llm-adverse-rl-agent/venv/lib/python3.11/site-packages/transformers/generation/utils.py:1273: UserWarning: Using the model-agnostic default `max_length` (=20) to control the generation length. We recommend setting `max_new_tokens` to control the maximum length of the generation.\n",
      "  warnings.warn(\n"
     ]
    },
    {
     "name": "stdout",
     "output_type": "stream",
     "text": [
      "-----------------------------------------\n",
      "| rollout/                |             |\n",
      "|    ep_len_mean          | 10          |\n",
      "|    ep_rew_mean          | 107         |\n",
      "| time/                   |             |\n",
      "|    fps                  | 2           |\n",
      "|    iterations           | 8           |\n",
      "|    time_elapsed         | 7931        |\n",
      "|    total_timesteps      | 16384       |\n",
      "| train/                  |             |\n",
      "|    approx_kl            | 0.005453566 |\n",
      "|    clip_fraction        | 0.0175      |\n",
      "|    clip_range           | 0.2         |\n",
      "|    entropy_loss         | -4.53       |\n",
      "|    explained_variance   | 0.02        |\n",
      "|    learning_rate        | 0.0003      |\n",
      "|    loss                 | 2.12e+03    |\n",
      "|    n_updates            | 70          |\n",
      "|    policy_gradient_loss | -0.009      |\n",
      "|    value_loss           | 1.02e+04    |\n",
      "-----------------------------------------\n"
     ]
    },
    {
     "name": "stderr",
     "output_type": "stream",
     "text": [
      "/Users/isaacbowers-barnard/Documents/Projects/llm-adverse-rl-agent/venv/lib/python3.11/site-packages/transformers/generation/utils.py:1273: UserWarning: Using the model-agnostic default `max_length` (=20) to control the generation length. We recommend setting `max_new_tokens` to control the maximum length of the generation.\n",
      "  warnings.warn(\n"
     ]
    },
    {
     "name": "stdout",
     "output_type": "stream",
     "text": [
      "-----------------------------------------\n",
      "| rollout/                |             |\n",
      "|    ep_len_mean          | 10          |\n",
      "|    ep_rew_mean          | 69.4        |\n",
      "| time/                   |             |\n",
      "|    fps                  | 2           |\n",
      "|    iterations           | 9           |\n",
      "|    time_elapsed         | 8906        |\n",
      "|    total_timesteps      | 18432       |\n",
      "| train/                  |             |\n",
      "|    approx_kl            | 0.003838988 |\n",
      "|    clip_fraction        | 0.00308     |\n",
      "|    clip_range           | 0.2         |\n",
      "|    entropy_loss         | -4.51       |\n",
      "|    explained_variance   | 0.0189      |\n",
      "|    learning_rate        | 0.0003      |\n",
      "|    loss                 | 1.05e+04    |\n",
      "|    n_updates            | 80          |\n",
      "|    policy_gradient_loss | -0.00792    |\n",
      "|    value_loss           | 2.47e+04    |\n",
      "-----------------------------------------\n"
     ]
    },
    {
     "name": "stderr",
     "output_type": "stream",
     "text": [
      "/Users/isaacbowers-barnard/Documents/Projects/llm-adverse-rl-agent/venv/lib/python3.11/site-packages/transformers/generation/utils.py:1273: UserWarning: Using the model-agnostic default `max_length` (=20) to control the generation length. We recommend setting `max_new_tokens` to control the maximum length of the generation.\n",
      "  warnings.warn(\n"
     ]
    },
    {
     "name": "stdout",
     "output_type": "stream",
     "text": [
      "------------------------------------------\n",
      "| rollout/                |              |\n",
      "|    ep_len_mean          | 10           |\n",
      "|    ep_rew_mean          | 69.1         |\n",
      "| time/                   |              |\n",
      "|    fps                  | 2            |\n",
      "|    iterations           | 10           |\n",
      "|    time_elapsed         | 9882         |\n",
      "|    total_timesteps      | 20480        |\n",
      "| train/                  |              |\n",
      "|    approx_kl            | 0.0043128366 |\n",
      "|    clip_fraction        | 0.00708      |\n",
      "|    clip_range           | 0.2          |\n",
      "|    entropy_loss         | -4.5         |\n",
      "|    explained_variance   | -0.00239     |\n",
      "|    learning_rate        | 0.0003       |\n",
      "|    loss                 | 3.08e+03     |\n",
      "|    n_updates            | 90           |\n",
      "|    policy_gradient_loss | -0.00764     |\n",
      "|    value_loss           | 1.45e+04     |\n",
      "------------------------------------------\n"
     ]
    },
    {
     "name": "stderr",
     "output_type": "stream",
     "text": [
      "/Users/isaacbowers-barnard/Documents/Projects/llm-adverse-rl-agent/venv/lib/python3.11/site-packages/transformers/generation/utils.py:1273: UserWarning: Using the model-agnostic default `max_length` (=20) to control the generation length. We recommend setting `max_new_tokens` to control the maximum length of the generation.\n",
      "  warnings.warn(\n"
     ]
    },
    {
     "name": "stdout",
     "output_type": "stream",
     "text": [
      "------------------------------------------\n",
      "| rollout/                |              |\n",
      "|    ep_len_mean          | 10           |\n",
      "|    ep_rew_mean          | 97.3         |\n",
      "| time/                   |              |\n",
      "|    fps                  | 2            |\n",
      "|    iterations           | 11           |\n",
      "|    time_elapsed         | 10863        |\n",
      "|    total_timesteps      | 22528        |\n",
      "| train/                  |              |\n",
      "|    approx_kl            | 0.0068707205 |\n",
      "|    clip_fraction        | 0.023        |\n",
      "|    clip_range           | 0.2          |\n",
      "|    entropy_loss         | -4.47        |\n",
      "|    explained_variance   | 0.0221       |\n",
      "|    learning_rate        | 0.0003       |\n",
      "|    loss                 | 8.76e+03     |\n",
      "|    n_updates            | 100          |\n",
      "|    policy_gradient_loss | -0.0108      |\n",
      "|    value_loss           | 1.68e+04     |\n",
      "------------------------------------------\n"
     ]
    },
    {
     "name": "stderr",
     "output_type": "stream",
     "text": [
      "/Users/isaacbowers-barnard/Documents/Projects/llm-adverse-rl-agent/venv/lib/python3.11/site-packages/transformers/generation/utils.py:1273: UserWarning: Using the model-agnostic default `max_length` (=20) to control the generation length. We recommend setting `max_new_tokens` to control the maximum length of the generation.\n",
      "  warnings.warn(\n"
     ]
    },
    {
     "name": "stdout",
     "output_type": "stream",
     "text": [
      "-----------------------------------------\n",
      "| rollout/                |             |\n",
      "|    ep_len_mean          | 10          |\n",
      "|    ep_rew_mean          | 104         |\n",
      "| time/                   |             |\n",
      "|    fps                  | 2           |\n",
      "|    iterations           | 12          |\n",
      "|    time_elapsed         | 11850       |\n",
      "|    total_timesteps      | 24576       |\n",
      "| train/                  |             |\n",
      "|    approx_kl            | 0.005699889 |\n",
      "|    clip_fraction        | 0.00928     |\n",
      "|    clip_range           | 0.2         |\n",
      "|    entropy_loss         | -4.46       |\n",
      "|    explained_variance   | 0.0251      |\n",
      "|    learning_rate        | 0.0003      |\n",
      "|    loss                 | 4.36e+03    |\n",
      "|    n_updates            | 110         |\n",
      "|    policy_gradient_loss | -0.00788    |\n",
      "|    value_loss           | 1.4e+04     |\n",
      "-----------------------------------------\n"
     ]
    },
    {
     "name": "stderr",
     "output_type": "stream",
     "text": [
      "/Users/isaacbowers-barnard/Documents/Projects/llm-adverse-rl-agent/venv/lib/python3.11/site-packages/transformers/generation/utils.py:1273: UserWarning: Using the model-agnostic default `max_length` (=20) to control the generation length. We recommend setting `max_new_tokens` to control the maximum length of the generation.\n",
      "  warnings.warn(\n"
     ]
    },
    {
     "name": "stdout",
     "output_type": "stream",
     "text": [
      "-----------------------------------------\n",
      "| rollout/                |             |\n",
      "|    ep_len_mean          | 10          |\n",
      "|    ep_rew_mean          | 68.5        |\n",
      "| time/                   |             |\n",
      "|    fps                  | 2           |\n",
      "|    iterations           | 13          |\n",
      "|    time_elapsed         | 12825       |\n",
      "|    total_timesteps      | 26624       |\n",
      "| train/                  |             |\n",
      "|    approx_kl            | 0.008020413 |\n",
      "|    clip_fraction        | 0.0453      |\n",
      "|    clip_range           | 0.2         |\n",
      "|    entropy_loss         | -4.45       |\n",
      "|    explained_variance   | 0.0642      |\n",
      "|    learning_rate        | 0.0003      |\n",
      "|    loss                 | 8.17e+03    |\n",
      "|    n_updates            | 120         |\n",
      "|    policy_gradient_loss | -0.0133     |\n",
      "|    value_loss           | 1.57e+04    |\n",
      "-----------------------------------------\n"
     ]
    }
   ],
   "source": [
    "import pandas as pd\n",
    "from transformers import pipeline\n",
    "from stable_baselines3 import PPO\n",
    "from stable_baselines3.common.env_checker import check_env\n",
    "\n",
    "from rl_prompt_injection.environment import ToxicityEnvironment\n",
    "from rl_prompt_injection.engines import action_engine, reward_engine, state_engine\n",
    "from experiment_config.initial_experiment_config import DataConstants, ExperimentConstants, BasicConfig\n",
    "\n",
    "llm = pipeline(\n",
    "    \"text2text-generation\", model=ExperimentConstants.MODEL\n",
    "    )\n",
    "def generate_response(s: str | list, model=llm) -> str: \n",
    "    return model(s)[0].get(\"generated_text\", \"\")\n",
    "\n",
    "\n",
    "reward_eng = reward_engine.ResponseToxicityRewardEngine()\n",
    "action_eng = action_engine.Text2TextActionSpace(model=ExperimentConstants.MODEL, num_actions=ExperimentConstants.NUM_ACTIONS)\n",
    "state_eng = state_engine.SentenceTransformerStateEngine()\n",
    "# texts = pd.read_csv(DataConstants.TRAIN_DATA_PATH, encoding=\"latin1\").iloc[:,-1].dropna().to_numpy()\n",
    "tests = np.array([\"\"])\n",
    "\n",
    "env = ToxicityEnvironment(\n",
    "        llm = generate_response,\n",
    "        reward_engine=reward_eng,\n",
    "        state_engine=state_eng,\n",
    "        action_engine=action_eng,\n",
    "        instruction_prompt = ExperimentConstants.INSTRUCTION_PROMPT,\n",
    "        texts = texts,\n",
    "        log_interval=BasicConfig.LOG_INTERVAL,\n",
    "        experiement_dir=ExperimentConstants.OUTPUT_DIR\n",
    ")\n",
    "\n",
    "\n",
    "check_env(env,skip_render_check=True)\n",
    "\n",
    "model = PPO(\"MlpPolicy\", env, verbose=1)\n",
    "model.learn(total_timesteps=ExperimentConstants.TIMESTEPS)\n",
    "\n",
    "# log final elements\n",
    "env.log()\n",
    "\n"
   ]
  },
  {
   "cell_type": "markdown",
   "metadata": {},
   "source": [
    "### Initial Experiment\n",
    "The initial experiment experiment aims to train an agent to generate a prompts of up to 10 tokens delimited by "
   ]
  },
  {
   "cell_type": "code",
   "execution_count": 3,
   "metadata": {},
   "outputs": [],
   "source": [
    "# comments\n",
    "# create experiment runners / experiments\n",
    "# what does this tell us? LLM vs Toxicity Model\n",
    "# commentry: feasibility (inaccess but could imagine foundation model service)\n",
    "# statistical test for model robustness\n",
    "# Other experiments:"
   ]
  },
  {
   "cell_type": "code",
   "execution_count": 2,
   "metadata": {},
   "outputs": [],
   "source": [
    "model.save(\"initial\")"
   ]
  },
  {
   "cell_type": "code",
   "execution_count": 5,
   "metadata": {},
   "outputs": [],
   "source": [
    "import os;\n",
    "import pandas as pd;\n",
    "frames = list()\n",
    "for f in os.listdir(\"output/initial\"):\n",
    "    frames.append(pd.read_csv(f\"output/initial/\"+f))\n",
    "results_df = pd.concat(frames)"
   ]
  },
  {
   "cell_type": "code",
   "execution_count": 6,
   "metadata": {},
   "outputs": [
    {
     "data": {
      "text/plain": [
       "<Axes: xlabel='episode_number', ylabel='rewards_9'>"
      ]
     },
     "execution_count": 6,
     "metadata": {},
     "output_type": "execute_result"
    },
    {
     "data": {
      "image/png": "[encoded data removed]",
      "text/plain": [
       "<Figure size 640x480 with 1 Axes>"
      ]
     },
     "metadata": {},
     "output_type": "display_data"
    }
   ],
   "source": [
    "import matplotlib.pyplot as plt\n",
    "import seaborn as sns\n",
    "# results_df.index = results_df['episode_number']\n",
    "sns.regplot(x='episode_number', y='rewards_9', data=results_df)\n"
   ]
  },
  {
   "cell_type": "code",
   "execution_count": 3,
   "metadata": {},
   "outputs": [
    {
     "name": "stdout",
     "output_type": "stream",
     "text": [
      "Help on function regplot in module seaborn.regression:\n",
      "\n",
      "regplot(data=None, *, x=None, y=None, x_estimator=None, x_bins=None, x_ci='ci', scatter=True, fit_reg=True, ci=95, n_boot=1000, units=None, seed=None, order=1, logistic=False, lowess=False, robust=False, logx=False, x_partial=None, y_partial=None, truncate=True, dropna=True, x_jitter=None, y_jitter=None, label=None, color=None, marker='o', scatter_kws=None, line_kws=None, ax=None)\n",
      "    Plot data and a linear regression model fit.\n",
      "    \n",
      "    There are a number of mutually exclusive options for estimating the\n",
      "    regression model. See the :ref:`tutorial <regression_tutorial>` for more\n",
      "    information.    \n",
      "    \n",
      "    Parameters\n",
      "    ----------\n",
      "    x, y: string, series, or vector array\n",
      "        Input variables. If strings, these should correspond with column names\n",
      "        in ``data``. When pandas objects are used, axes will be labeled with\n",
      "        the series name.\n",
      "    data : DataFrame\n",
      "        Tidy (\"long-form\") dataframe where each column is a variable and each\n",
      "        row is an observation.    \n",
      "    x_estimator : callable that maps vector -> scalar, optional\n",
      "        Apply this function to each unique value of ``x`` and plot the\n",
      "        resulting estimate. This is useful when ``x`` is a discrete variable.\n",
      "        If ``x_ci`` is given, this estimate will be bootstrapped and a\n",
      "        confidence interval will be drawn.    \n",
      "    x_bins : int or vector, optional\n",
      "        Bin the ``x`` variable into discrete bins and then estimate the central\n",
      "        tendency and a confidence interval. This binning only influences how\n",
      "        the scatterplot is drawn; the regression is still fit to the original\n",
      "        data.  This parameter is interpreted either as the number of\n",
      "        evenly-sized (not necessary spaced) bins or the positions of the bin\n",
      "        centers. When this parameter is used, it implies that the default of\n",
      "        ``x_estimator`` is ``numpy.mean``.    \n",
      "    x_ci : \"ci\", \"sd\", int in [0, 100] or None, optional\n",
      "        Size of the confidence interval used when plotting a central tendency\n",
      "        for discrete values of ``x``. If ``\"ci\"``, defer to the value of the\n",
      "        ``ci`` parameter. If ``\"sd\"``, skip bootstrapping and show the\n",
      "        standard deviation of the observations in each bin.    \n",
      "    scatter : bool, optional\n",
      "        If ``True``, draw a scatterplot with the underlying observations (or\n",
      "        the ``x_estimator`` values).    \n",
      "    fit_reg : bool, optional\n",
      "        If ``True``, estimate and plot a regression model relating the ``x``\n",
      "        and ``y`` variables.    \n",
      "    ci : int in [0, 100] or None, optional\n",
      "        Size of the confidence interval for the regression estimate. This will\n",
      "        be drawn using translucent bands around the regression line. The\n",
      "        confidence interval is estimated using a bootstrap; for large\n",
      "        datasets, it may be advisable to avoid that computation by setting\n",
      "        this parameter to None.    \n",
      "    n_boot : int, optional\n",
      "        Number of bootstrap resamples used to estimate the ``ci``. The default\n",
      "        value attempts to balance time and stability; you may want to increase\n",
      "        this value for \"final\" versions of plots.    \n",
      "    units : variable name in ``data``, optional\n",
      "        If the ``x`` and ``y`` observations are nested within sampling units,\n",
      "        those can be specified here. This will be taken into account when\n",
      "        computing the confidence intervals by performing a multilevel bootstrap\n",
      "        that resamples both units and observations (within unit). This does not\n",
      "        otherwise influence how the regression is estimated or drawn.    \n",
      "    seed : int, numpy.random.Generator, or numpy.random.RandomState, optional\n",
      "        Seed or random number generator for reproducible bootstrapping.    \n",
      "    order : int, optional\n",
      "        If ``order`` is greater than 1, use ``numpy.polyfit`` to estimate a\n",
      "        polynomial regression.    \n",
      "    logistic : bool, optional\n",
      "        If ``True``, assume that ``y`` is a binary variable and use\n",
      "        ``statsmodels`` to estimate a logistic regression model. Note that this\n",
      "        is substantially more computationally intensive than linear regression,\n",
      "        so you may wish to decrease the number of bootstrap resamples\n",
      "        (``n_boot``) or set ``ci`` to None.    \n",
      "    lowess : bool, optional\n",
      "        If ``True``, use ``statsmodels`` to estimate a nonparametric lowess\n",
      "        model (locally weighted linear regression). Note that confidence\n",
      "        intervals cannot currently be drawn for this kind of model.    \n",
      "    robust : bool, optional\n",
      "        If ``True``, use ``statsmodels`` to estimate a robust regression. This\n",
      "        will de-weight outliers. Note that this is substantially more\n",
      "        computationally intensive than standard linear regression, so you may\n",
      "        wish to decrease the number of bootstrap resamples (``n_boot``) or set\n",
      "        ``ci`` to None.    \n",
      "    logx : bool, optional\n",
      "        If ``True``, estimate a linear regression of the form y ~ log(x), but\n",
      "        plot the scatterplot and regression model in the input space. Note that\n",
      "        ``x`` must be positive for this to work.    \n",
      "    {x,y}_partial : strings in ``data`` or matrices\n",
      "        Confounding variables to regress out of the ``x`` or ``y`` variables\n",
      "        before plotting.    \n",
      "    truncate : bool, optional\n",
      "        If ``True``, the regression line is bounded by the data limits. If\n",
      "        ``False``, it extends to the ``x`` axis limits.\n",
      "    \n",
      "    {x,y}_jitter : floats, optional\n",
      "        Add uniform random noise of this size to either the ``x`` or ``y``\n",
      "        variables. The noise is added to a copy of the data after fitting the\n",
      "        regression, and only influences the look of the scatterplot. This can\n",
      "        be helpful when plotting variables that take discrete values.    \n",
      "    label : string\n",
      "        Label to apply to either the scatterplot or regression line (if\n",
      "        ``scatter`` is ``False``) for use in a legend.\n",
      "    color : matplotlib color\n",
      "        Color to apply to all plot elements; will be superseded by colors\n",
      "        passed in ``scatter_kws`` or ``line_kws``.\n",
      "    marker : matplotlib marker code\n",
      "        Marker to use for the scatterplot glyphs.\n",
      "    {scatter,line}_kws : dictionaries\n",
      "        Additional keyword arguments to pass to ``plt.scatter`` and\n",
      "        ``plt.plot``.    \n",
      "    ax : matplotlib Axes, optional\n",
      "        Axes object to draw the plot onto, otherwise uses the current Axes.\n",
      "    \n",
      "    Returns\n",
      "    -------\n",
      "    ax : matplotlib Axes\n",
      "        The Axes object containing the plot.\n",
      "    \n",
      "    See Also\n",
      "    --------\n",
      "    lmplot : Combine :func:`regplot` and :class:`FacetGrid` to plot multiple\n",
      "             linear relationships in a dataset.\n",
      "    jointplot : Combine :func:`regplot` and :class:`JointGrid` (when used with\n",
      "                ``kind=\"reg\"``).\n",
      "    pairplot : Combine :func:`regplot` and :class:`PairGrid` (when used with\n",
      "               ``kind=\"reg\"``).\n",
      "    residplot : Plot the residuals of a linear regression model.\n",
      "    \n",
      "    Notes\n",
      "    -----\n",
      "    \n",
      "    The :func:`regplot` and :func:`lmplot` functions are closely related, but\n",
      "    the former is an axes-level function while the latter is a figure-level\n",
      "    function that combines :func:`regplot` and :class:`FacetGrid`.    \n",
      "    \n",
      "    \n",
      "    It's also easy to combine :func:`regplot` and :class:`JointGrid` or\n",
      "    :class:`PairGrid` through the :func:`jointplot` and :func:`pairplot`\n",
      "    functions, although these do not directly accept all of :func:`regplot`'s\n",
      "    parameters.\n",
      "    \n",
      "    Examples\n",
      "    --------\n",
      "    \n",
      "    .. include:: ../docstrings/regplot.rst\n",
      "\n"
     ]
    }
   ],
   "source": [
    "help(sns.regplot)"
   ]
  },
  {
   "cell_type": "code",
   "execution_count": null,
   "metadata": {},
   "outputs": [],
   "source": []
  }
 ],
 "metadata": {
  "kernelspec": {
   "display_name": "venv",
   "language": "python",
   "name": "python3"
  },
  "language_info": {
   "codemirror_mode": {
    "name": "ipython",
    "version": 3
   },
   "file_extension": ".py",
   "mimetype": "text/x-python",
   "name": "python",
   "nbconvert_exporter": "python",
   "pygments_lexer": "ipython3",
   "version": "3.11.6"
  }
 },
 "nbformat": 4,
 "nbformat_minor": 2
}
